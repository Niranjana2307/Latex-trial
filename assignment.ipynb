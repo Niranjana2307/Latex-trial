{
  "nbformat": 4,
  "nbformat_minor": 0,
  "metadata": {
    "colab": {
      "provenance": [],
      "toc_visible": true
    },
    "kernelspec": {
      "name": "python3",
      "display_name": "Python 3"
    },
    "language_info": {
      "name": "python"
    }
  },
  "cells": [
    {
      "cell_type": "markdown",
      "source": [
        "# Nested list comprehensions\n",
        "\n",
        "\n"
      ],
      "metadata": {
        "id": "GpyEdyohMRkq"
      }
    },
    {
      "cell_type": "markdown",
      "source": [
        "## Lesson (given as such in the document)\n",
        "\n",
        "### Lesson Objective\n",
        "\n",
        "To introduce students to the concept of nested list comprehensions in Python and how they provide an elegant way to work with nested loops within list comprehensions.  \n",
        "\n",
        "\n",
        "### Prerequisites\n",
        "\n",
        "You may assume that the student has mastered the following prerequisite material.  \n",
        "\n",
        "### List Comprehensions With Conditionals\n",
        "\n",
        "Nested Lists and Tuples\n",
        "\n",
        "### Introduction  \n",
        "\n",
        "A nested list comprehension is a list comprehension inside another list comprehension, allowing iteration over multiple sequences efficiently.\n",
        "\n",
        "Nested list comprehensions provide a concise and readable way to handle multi-dimensional data structures such as tables or matrices.  \n",
        "\n",
        "It follows the syntax:  \n",
        "  \n",
        "```\n",
        "nested_list =  [[expression for item in iterable] for outer_item in outer_iterable]\n",
        "```\n",
        "\n",
        "\n",
        "\n"
      ],
      "metadata": {
        "id": "8gz7XXTyMj5b"
      }
    },
    {
      "cell_type": "code",
      "execution_count": 2,
      "metadata": {
        "colab": {
          "base_uri": "https://localhost:8080/"
        },
        "id": "R0c9XPrbxO2p",
        "outputId": "04af5549-c0a5-4031-da22-366e89c244a0"
      },
      "outputs": [
        {
          "output_type": "stream",
          "name": "stdout",
          "text": [
            "[[1, 4, 9], [16, 25, 36], [49, 64, 81]]\n"
          ]
        }
      ],
      "source": [
        "# Example\n",
        "matrix = [[1, 2, 3], [4, 5, 6], [7, 8, 9]]\n",
        "squared_matrix = [[num ** 2 for num in row] for row in matrix]\n",
        "print(squared_matrix)\n"
      ]
    },
    {
      "cell_type": "markdown",
      "source": [
        "## KP1. Understanding Nested List Comprehensions  "
      ],
      "metadata": {
        "id": "I6QkLlotNJ9-"
      }
    },
    {
      "cell_type": "markdown",
      "source": [
        "### G1.1 (E) Predicting the Output of a Nested List Comprehension  "
      ],
      "metadata": {
        "id": "5xxdWaJyNPJZ"
      }
    },
    {
      "cell_type": "markdown",
      "source": [
        "QUESTION\n",
        "\n",
        "Consider the following code snippet.\n",
        "\n",
        "\n",
        "```\n",
        "nested_list = [[(i + j) ** 2 for j in range(1, 4)] for i in range(1, 4)]\n",
        "print(nested_list)\n",
        "```\n",
        "\n",
        "What will be printed?"
      ],
      "metadata": {
        "id": "zrajpwX4NUxp"
      }
    },
    {
      "cell_type": "markdown",
      "source": [
        "SOLUTION"
      ],
      "metadata": {
        "id": "5hSHYSQEDA_K"
      }
    },
    {
      "cell_type": "code",
      "source": [
        "nested_list = [[(i + j) ** 2 for j in range(1, 4)] for i in range(1, 4)]\n",
        "print(nested_list)"
      ],
      "metadata": {
        "colab": {
          "base_uri": "https://localhost:8080/"
        },
        "id": "uMkZYGWNMYmx",
        "outputId": "9dea97a6-02be-472b-de83-2f2d26863e11"
      },
      "execution_count": 12,
      "outputs": [
        {
          "output_type": "stream",
          "name": "stdout",
          "text": [
            "[[4, 9, 16], [9, 16, 25], [16, 25, 36]]\n"
          ]
        }
      ]
    },
    {
      "cell_type": "markdown",
      "source": [
        "EXPLANATION\n",
        "\n"
      ],
      "metadata": {
        "id": "RUthPJHPNrpS"
      }
    },
    {
      "cell_type": "code",
      "source": [
        "\n",
        "for i  in range(1,4):\n",
        "  result = []\n",
        "  print(\"i\",\"j\",\"(i+j)**2\")\n",
        "  for j in range(1,4):\n",
        "\n",
        "    print(i,j,(i+j)**2)\n",
        "    result.append((i+j)**2)\n",
        "  print(\"\\nSublist for i = {0}: {1}\\n\".format(i, result))\n"
      ],
      "metadata": {
        "colab": {
          "base_uri": "https://localhost:8080/"
        },
        "id": "5kHzcLJ0_gu9",
        "outputId": "b6ccec85-3a48-4569-c9ed-264230dc0888"
      },
      "execution_count": 50,
      "outputs": [
        {
          "output_type": "stream",
          "name": "stdout",
          "text": [
            "i j (i+j)**2\n",
            "1 1 4\n",
            "1 2 9\n",
            "1 3 16\n",
            "\n",
            "Sublist for i = 1: [4, 9, 16]\n",
            "\n",
            "i j (i+j)**2\n",
            "2 1 9\n",
            "2 2 16\n",
            "2 3 25\n",
            "\n",
            "Sublist for i = 2: [9, 16, 25]\n",
            "\n",
            "i j (i+j)**2\n",
            "3 1 16\n",
            "3 2 25\n",
            "3 3 36\n",
            "\n",
            "Sublist for i = 3: [16, 25, 36]\n",
            "\n"
          ]
        }
      ]
    },
    {
      "cell_type": "code",
      "source": [
        "import dis\n",
        "\n",
        "expr = '[[(i + j) ** 2 for j in range(1, 4)] for i in range(1, 4)]'\n",
        "dis.dis(compile(expr, '<string>', 'eval'))\n"
      ],
      "metadata": {
        "colab": {
          "base_uri": "https://localhost:8080/"
        },
        "id": "iAU1nx9wabKZ",
        "outputId": "7178267c-06a5-4352-df76-3ea7237f288b"
      },
      "execution_count": 61,
      "outputs": [
        {
          "output_type": "stream",
          "name": "stdout",
          "text": [
            "  0           0 RESUME                   0\n",
            "\n",
            "  1           2 LOAD_CONST               0 (<code object <listcomp> at 0x7be5686cc430, file \"<string>\", line 1>)\n",
            "              4 MAKE_FUNCTION            0\n",
            "              6 PUSH_NULL\n",
            "              8 LOAD_NAME                0 (range)\n",
            "             10 LOAD_CONST               1 (1)\n",
            "             12 LOAD_CONST               2 (4)\n",
            "             14 PRECALL                  2\n",
            "             18 CALL                     2\n",
            "             28 GET_ITER\n",
            "             30 PRECALL                  0\n",
            "             34 CALL                     0\n",
            "             44 RETURN_VALUE\n",
            "\n",
            "Disassembly of <code object <listcomp> at 0x7be5686cc430, file \"<string>\", line 1>:\n",
            "              0 MAKE_CELL                1 (i)\n",
            "\n",
            "  1           2 RESUME                   0\n",
            "              4 BUILD_LIST               0\n",
            "              6 LOAD_FAST                0 (.0)\n",
            "        >>    8 FOR_ITER                30 (to 70)\n",
            "             10 STORE_DEREF              1 (i)\n",
            "             12 LOAD_CLOSURE             1 (i)\n",
            "             14 BUILD_TUPLE              1\n",
            "             16 LOAD_CONST               0 (<code object <listcomp> at 0x7be568758ff0, file \"<string>\", line 1>)\n",
            "             18 MAKE_FUNCTION            8 (closure)\n",
            "             20 LOAD_GLOBAL              1 (NULL + range)\n",
            "             32 LOAD_CONST               1 (1)\n",
            "             34 LOAD_CONST               2 (4)\n",
            "             36 PRECALL                  2\n",
            "             40 CALL                     2\n",
            "             50 GET_ITER\n",
            "             52 PRECALL                  0\n",
            "             56 CALL                     0\n",
            "             66 LIST_APPEND              2\n",
            "             68 JUMP_BACKWARD           31 (to 8)\n",
            "        >>   70 RETURN_VALUE\n",
            "\n",
            "Disassembly of <code object <listcomp> at 0x7be568758ff0, file \"<string>\", line 1>:\n",
            "              0 COPY_FREE_VARS           1\n",
            "\n",
            "  1           2 RESUME                   0\n",
            "              4 BUILD_LIST               0\n",
            "              6 LOAD_FAST                0 (.0)\n",
            "        >>    8 FOR_ITER                10 (to 30)\n",
            "             10 STORE_FAST               1 (j)\n",
            "             12 LOAD_DEREF               2 (i)\n",
            "             14 LOAD_FAST                1 (j)\n",
            "             16 BINARY_OP                0 (+)\n",
            "             20 LOAD_CONST               0 (2)\n",
            "             22 BINARY_OP                8 (**)\n",
            "             26 LIST_APPEND              2\n",
            "             28 JUMP_BACKWARD           11 (to 8)\n",
            "        >>   30 RETURN_VALUE\n"
          ]
        }
      ]
    },
    {
      "cell_type": "markdown",
      "source": [
        "### G1.2 (M) Converting a `for` Loop to a Nested List Comprehension  \n",
        "\n",
        "\n",
        "\n"
      ],
      "metadata": {
        "id": "dv2ZyjrNCnOy"
      }
    },
    {
      "cell_type": "markdown",
      "source": [
        "QUESTION\n",
        "  \n",
        "Rewrite the following for loop as a nested list comprehension:  \n"
      ],
      "metadata": {
        "id": "ly_qD6DwC1iH"
      }
    },
    {
      "cell_type": "code",
      "source": [
        "matrix = [[1, 2, 3], [4, 5, 6], [7, 8, 9]]\n",
        "new_matrix = []\n",
        "for row in matrix:\n",
        "    new_row = []\n",
        "    for num in row:\n",
        "        new_row.append(num + 2)\n",
        "    new_matrix.append(new_row)\n",
        "print(new_matrix)"
      ],
      "metadata": {
        "colab": {
          "base_uri": "https://localhost:8080/"
        },
        "id": "Q5BlSkwADQj2",
        "outputId": "c7be0526-5802-47e3-f79f-46a655b3029d"
      },
      "execution_count": 18,
      "outputs": [
        {
          "output_type": "stream",
          "name": "stdout",
          "text": [
            "[[3, 4, 5], [6, 7, 8], [9, 10, 11]]\n"
          ]
        }
      ]
    },
    {
      "cell_type": "markdown",
      "source": [
        "SOLUTION"
      ],
      "metadata": {
        "id": "xmnADAPIDEw6"
      }
    },
    {
      "cell_type": "code",
      "source": [
        "\n",
        "new_matrix = [[num + 2 for num in row] for row in matrix]\n",
        "print(new_matrix)"
      ],
      "metadata": {
        "colab": {
          "base_uri": "https://localhost:8080/"
        },
        "id": "sEd7AyR1bXPe",
        "outputId": "a4d6ec63-4637-4774-b71a-b4e316a51344"
      },
      "execution_count": 19,
      "outputs": [
        {
          "output_type": "stream",
          "name": "stdout",
          "text": [
            "[[3, 4, 5], [6, 7, 8], [9, 10, 11]]\n"
          ]
        }
      ]
    },
    {
      "cell_type": "markdown",
      "source": [
        "EXPLANATION\n"
      ],
      "metadata": {
        "id": "aCSeE7FRDWnx"
      }
    },
    {
      "cell_type": "code",
      "source": [
        "import dis\n",
        "\n",
        "expr = '[[ num+2 for num in row] for row  in [[1, 2, 3], [4, 5, 6], [7, 8, 9]]]'\n",
        "dis.dis(compile(expr, '<string>', 'eval'))\n"
      ],
      "metadata": {
        "colab": {
          "base_uri": "https://localhost:8080/"
        },
        "id": "sAeyP63Ecko6",
        "outputId": "476b2091-e4b8-4945-f857-ddae8a902a8c"
      },
      "execution_count": 60,
      "outputs": [
        {
          "output_type": "stream",
          "name": "stdout",
          "text": [
            "  0           0 RESUME                   0\n",
            "\n",
            "  1           2 LOAD_CONST               0 (<code object <listcomp> at 0x7be5687655c0, file \"<string>\", line 1>)\n",
            "              4 MAKE_FUNCTION            0\n",
            "              6 BUILD_LIST               0\n",
            "              8 LOAD_CONST               1 ((1, 2, 3))\n",
            "             10 LIST_EXTEND              1\n",
            "             12 BUILD_LIST               0\n",
            "             14 LOAD_CONST               2 ((4, 5, 6))\n",
            "             16 LIST_EXTEND              1\n",
            "             18 BUILD_LIST               0\n",
            "             20 LOAD_CONST               3 ((7, 8, 9))\n",
            "             22 LIST_EXTEND              1\n",
            "             24 BUILD_TUPLE              3\n",
            "             26 GET_ITER\n",
            "             28 PRECALL                  0\n",
            "             32 CALL                     0\n",
            "             42 RETURN_VALUE\n",
            "\n",
            "Disassembly of <code object <listcomp> at 0x7be5687655c0, file \"<string>\", line 1>:\n",
            "              0 MAKE_CELL                1 (row)\n",
            "\n",
            "  1           2 RESUME                   0\n",
            "              4 BUILD_LIST               0\n",
            "              6 LOAD_FAST                0 (.0)\n",
            "        >>    8 FOR_ITER                16 (to 42)\n",
            "             10 STORE_DEREF              1 (row)\n",
            "             12 LOAD_CLOSURE             1 (row)\n",
            "             14 BUILD_TUPLE              1\n",
            "             16 LOAD_CONST               0 (<code object <listcomp> at 0x7be5687596f0, file \"<string>\", line 1>)\n",
            "             18 MAKE_FUNCTION            8 (closure)\n",
            "             20 LOAD_DEREF               1 (row)\n",
            "             22 GET_ITER\n",
            "             24 PRECALL                  0\n",
            "             28 CALL                     0\n",
            "             38 LIST_APPEND              2\n",
            "             40 JUMP_BACKWARD           17 (to 8)\n",
            "        >>   42 RETURN_VALUE\n",
            "\n",
            "Disassembly of <code object <listcomp> at 0x7be5687596f0, file \"<string>\", line 1>:\n",
            "              0 COPY_FREE_VARS           1\n",
            "\n",
            "  1           2 RESUME                   0\n",
            "              4 BUILD_LIST               0\n",
            "              6 LOAD_FAST                0 (.0)\n",
            "        >>    8 FOR_ITER                 7 (to 24)\n",
            "             10 STORE_FAST               1 (num)\n",
            "             12 LOAD_DEREF               2 (row)\n",
            "             14 LOAD_CONST               0 (2)\n",
            "             16 BINARY_OP                0 (+)\n",
            "             20 LIST_APPEND              2\n",
            "             22 JUMP_BACKWARD            8 (to 8)\n",
            "        >>   24 RETURN_VALUE\n"
          ]
        }
      ]
    },
    {
      "cell_type": "markdown",
      "source": [
        "## KP2. Using Nested List Comprehensions with Strings  "
      ],
      "metadata": {
        "id": "HLIGeA4NDhvh"
      }
    },
    {
      "cell_type": "markdown",
      "source": [
        "### G2.1 (E) Predicting Output for Uppercasing Nested Words  "
      ],
      "metadata": {
        "id": "eaJFOBpJEGiV"
      }
    },
    {
      "cell_type": "markdown",
      "source": [
        "QUESTION\n",
        "\n",
        "What will be printed when the following code is run?\n",
        "```\n",
        "sentence = \"I am happy\"\n",
        "words = [[char.upper() for char in word] for word in sentence.split()]\n",
        "print(words)\n",
        "```"
      ],
      "metadata": {
        "id": "IgC39v27EJol"
      }
    },
    {
      "cell_type": "markdown",
      "source": [
        "SOLUTION"
      ],
      "metadata": {
        "id": "V8YdodKAETNs"
      }
    },
    {
      "cell_type": "code",
      "source": [
        "sentence = \"I am happy\"\n",
        "words = [[char.upper() for char in word] for word in sentence.split()]\n",
        "print(words)\n"
      ],
      "metadata": {
        "colab": {
          "base_uri": "https://localhost:8080/"
        },
        "id": "Do90sDD8EFkI",
        "outputId": "a9965944-ace6-41eb-8ec9-259c80c5f537"
      },
      "execution_count": 91,
      "outputs": [
        {
          "output_type": "stream",
          "name": "stdout",
          "text": [
            "[['I'], ['A', 'M'], ['H', 'A', 'P', 'P', 'Y']]\n"
          ]
        }
      ]
    },
    {
      "cell_type": "markdown",
      "source": [
        "EXPLANATION"
      ],
      "metadata": {
        "id": "_WGPjDw3EU57"
      }
    },
    {
      "cell_type": "code",
      "source": [
        "sentence = \"I am happy\"\n",
        "\n",
        "# Split sentence into words\n",
        "words_list = sentence.split()\n",
        "print(\"Words List:\", words_list)\n",
        "\n",
        "# Process each word separately\n",
        "result = []\n",
        "for word in words_list:\n",
        "  char_list=[]\n",
        "  print(\"word\\t\",\"char\\t\",\"upper\\t\")\n",
        "  for char in word:\n",
        "    print(\"{0}\\t {1}\\t {2}\\t\".format(word, char, char.upper()))\n",
        "    char_list.append(char.upper())  # Convert each char in word to uppercase\n",
        "  print(f\"Sublist '{word}':\", char_list)\n",
        "\n"
      ],
      "metadata": {
        "colab": {
          "base_uri": "https://localhost:8080/"
        },
        "id": "qruk_KtxER7k",
        "outputId": "1a15c41b-68c8-4c64-ffee-d0f173be8e5e"
      },
      "execution_count": 68,
      "outputs": [
        {
          "output_type": "stream",
          "name": "stdout",
          "text": [
            "Words List: ['I', 'am', 'happy']\n",
            "word\t char\t upper\t\n",
            "I\t I\t I\t\n",
            "Sublist 'I': ['I']\n",
            "word\t char\t upper\t\n",
            "am\t a\t A\t\n",
            "am\t m\t M\t\n",
            "Sublist 'am': ['A', 'M']\n",
            "word\t char\t upper\t\n",
            "happy\t h\t H\t\n",
            "happy\t a\t A\t\n",
            "happy\t p\t P\t\n",
            "happy\t p\t P\t\n",
            "happy\t y\t Y\t\n",
            "Sublist 'happy': ['H', 'A', 'P', 'P', 'Y']\n"
          ]
        }
      ]
    },
    {
      "cell_type": "markdown",
      "source": [
        "## KP3. Using Nested List Comprehensions with Conditions"
      ],
      "metadata": {
        "id": "cQmTdZiCE0Fq"
      }
    },
    {
      "cell_type": "markdown",
      "source": [
        "### G3.1 (E) Creating a Nested List of Filtered Words"
      ],
      "metadata": {
        "id": "Ew6SKRafE--v"
      }
    },
    {
      "cell_type": "markdown",
      "source": [
        "QUESTION\n",
        "\n",
        "What is the output of the following code snippet?\n",
        "```\n",
        "words = [[\"cat\", \"elephant\"], [\"dog\", \"tiger\"], [\"fox\", \"giraffe\"]]\n",
        "long_words = [[word for word in row if len(word) > 3] for row in words]\n",
        "print(long_words)\n",
        "```"
      ],
      "metadata": {
        "id": "46DZGk5kE_H2"
      }
    },
    {
      "cell_type": "markdown",
      "source": [
        "SOLUTION"
      ],
      "metadata": {
        "id": "aE3KMUKsFJkY"
      }
    },
    {
      "cell_type": "code",
      "source": [
        "words = [[\"cat\", \"elephant\"], [\"dog\", \"tiger\"], [\"fox\", \"giraffe\"]]\n",
        "long_words = [[word for word in row if len(word) > 3] for row in words]\n",
        "print(long_words)\n"
      ],
      "metadata": {
        "colab": {
          "base_uri": "https://localhost:8080/"
        },
        "id": "fvPAznM6EfZt",
        "outputId": "dd858c69-aee8-4641-d8cc-401b5e3dfae0"
      },
      "execution_count": 70,
      "outputs": [
        {
          "output_type": "stream",
          "name": "stdout",
          "text": [
            "[['elephant'], ['tiger'], ['giraffe']]\n"
          ]
        }
      ]
    },
    {
      "cell_type": "markdown",
      "source": [
        "EXPLANATION"
      ],
      "metadata": {
        "id": "oFCVb3P9FQDv"
      }
    },
    {
      "cell_type": "code",
      "source": [
        "words = [[\"cat\", \"elephant\"], [\"dog\", \"tiger\"], [\"fox\", \"giraffe\"]]\n",
        "result = []\n",
        "for row in words:\n",
        "  long_words=[]\n",
        "  print(\"row\\t\\t\\t\",\"word\\t\")\n",
        "  for word in row:\n",
        "    if len(word)>3:\n",
        "          print(\"{0}\\t {1}\\t\".format(row, word))\n",
        "          long_words.append(word)\n",
        "           # Convert each char in word to uppercase\n",
        "  print(f\"Sublist:{long_words}\")\n",
        "\n"
      ],
      "metadata": {
        "colab": {
          "base_uri": "https://localhost:8080/"
        },
        "id": "6KZioelZFPDv",
        "outputId": "41e5e91a-f938-490c-d59f-1fb0bd681335"
      },
      "execution_count": 80,
      "outputs": [
        {
          "output_type": "stream",
          "name": "stdout",
          "text": [
            "row\t\t\t word\t\n",
            "['cat', 'elephant']\t elephant\t\n",
            "Sublist:['elephant']\n",
            "row\t\t\t word\t\n",
            "['dog', 'tiger']\t tiger\t\n",
            "Sublist:['tiger']\n",
            "row\t\t\t word\t\n",
            "['fox', 'giraffe']\t giraffe\t\n",
            "Sublist:['giraffe']\n"
          ]
        }
      ]
    },
    {
      "cell_type": "markdown",
      "source": [
        "## KP4. Writing Code Using Nested List Comprehensions  "
      ],
      "metadata": {
        "id": "afMvNvscF7KO"
      }
    },
    {
      "cell_type": "markdown",
      "source": [
        "### G4.1 Writing Code for Creating Given Nested List  "
      ],
      "metadata": {
        "id": "tloG7htUGBDd"
      }
    },
    {
      "cell_type": "markdown",
      "source": [
        "QUESTION\n",
        "\n",
        "Write a Python program using a nested list comprehension to create a 3 x 4 grid filled with zeros and print it.\n"
      ],
      "metadata": {
        "id": "W6XbMYHmGBKf"
      }
    },
    {
      "cell_type": "markdown",
      "source": [
        "SOLUTION"
      ],
      "metadata": {
        "id": "jsgUnsekGICP"
      }
    },
    {
      "cell_type": "code",
      "source": [
        "grid = [[0 for _ in range(4)] for _ in range(3)]\n",
        "print(grid)\n"
      ],
      "metadata": {
        "colab": {
          "base_uri": "https://localhost:8080/"
        },
        "id": "WgQ3fkamFIZh",
        "outputId": "1574ec5f-171f-49ab-fb55-0c1d373534ab"
      },
      "execution_count": 81,
      "outputs": [
        {
          "output_type": "stream",
          "name": "stdout",
          "text": [
            "[[0, 0, 0, 0], [0, 0, 0, 0], [0, 0, 0, 0]]\n"
          ]
        }
      ]
    },
    {
      "cell_type": "markdown",
      "source": [
        "EXPLANATION"
      ],
      "metadata": {
        "id": "bf7NPg28GTq0"
      }
    },
    {
      "cell_type": "code",
      "source": [
        "result = []\n",
        "for i in range(3):\n",
        "  list_=[]\n",
        "  print(\"\\nrow index | \",\"column index |\")\n",
        "  for j in range(4):\n",
        "      list_.append(0)\n",
        "      print(\"\\n{0}  |  {1}  |  {2}  |\".format(i, j,list_))\n",
        "  print(f\"\\nRow:{list_}\")"
      ],
      "metadata": {
        "colab": {
          "base_uri": "https://localhost:8080/"
        },
        "id": "C7Ltdwc_GK4K",
        "outputId": "441c85ec-4d80-470b-ec2f-1fc02d555461"
      },
      "execution_count": 85,
      "outputs": [
        {
          "output_type": "stream",
          "name": "stdout",
          "text": [
            "i\t j\t\n",
            "0\t 0\t [0]\n",
            "0\t 1\t [0, 0]\n",
            "0\t 2\t [0, 0, 0]\n",
            "0\t 3\t [0, 0, 0, 0]\n",
            "Row:[0, 0, 0, 0]\n",
            "i\t j\t\n",
            "1\t 0\t [0]\n",
            "1\t 1\t [0, 0]\n",
            "1\t 2\t [0, 0, 0]\n",
            "1\t 3\t [0, 0, 0, 0]\n",
            "Row:[0, 0, 0, 0]\n",
            "i\t j\t\n",
            "2\t 0\t [0]\n",
            "2\t 1\t [0, 0]\n",
            "2\t 2\t [0, 0, 0]\n",
            "2\t 3\t [0, 0, 0, 0]\n",
            "Row:[0, 0, 0, 0]\n"
          ]
        }
      ]
    },
    {
      "cell_type": "markdown",
      "source": [
        "### G4.2 Writing Code for Creating Given Nested List from Strings\n",
        "\n"
      ],
      "metadata": {
        "id": "sWa9aJ5sGVHt"
      }
    },
    {
      "cell_type": "markdown",
      "source": [
        "QUESTION\n",
        "\n",
        "Write a nested list comprehension that extracts only vowels from each word in a sentence, storing them in nested lists.\n",
        "For `sentence = \"Python Is Amazing\"`, the output must be `[['o'], ['I'], ['A', 'a', 'i']]`\n"
      ],
      "metadata": {
        "id": "K2ymTZQyGVMJ"
      }
    },
    {
      "cell_type": "markdown",
      "source": [
        "SOLUTION"
      ],
      "metadata": {
        "id": "34d97G6YGVOj"
      }
    },
    {
      "cell_type": "code",
      "source": [
        "sentence = \"Python Is Amazing\"\n",
        "vowels = \"aeiouAEIOU\"\n",
        "vowel_list = [[char for char in word if char in vowels] for word in sentence.split()]\n",
        "print(vowel_list)\n"
      ],
      "metadata": {
        "colab": {
          "base_uri": "https://localhost:8080/"
        },
        "id": "HuZgyN2lGgIb",
        "outputId": "de9ee6f5-5531-4c4e-fe12-1ce3d9da1fc1"
      },
      "execution_count": 28,
      "outputs": [
        {
          "output_type": "stream",
          "name": "stdout",
          "text": [
            "[['o'], ['I'], ['A', 'a', 'i']]\n"
          ]
        }
      ]
    },
    {
      "cell_type": "markdown",
      "source": [
        "EXPLANATION"
      ],
      "metadata": {
        "id": "kNx05WshGVQy"
      }
    },
    {
      "cell_type": "code",
      "source": [
        "sentence = \"Python Is Amazing\"\n",
        "vowels = \"aeiouAEIOU\"\n",
        "\n",
        "# Split sentence into words\n",
        "words_list = sentence.split()\n",
        "print(\"\\nWords List:\", words_list)\n",
        "\n",
        "# Process each word separately\n",
        "\n",
        "for word in words_list:\n",
        "  char_list=[]\n",
        "  print(\"\\nword | \",\"char | \")\n",
        "  for char in word:\n",
        "    if char in vowels:\n",
        "      char_list.append(char)\n",
        "      print(\"\\n{0} | {1} |\".format(word, char))\n",
        "  print(f\"\\nSublist: {char_list}\")\n",
        "\n"
      ],
      "metadata": {
        "colab": {
          "base_uri": "https://localhost:8080/"
        },
        "id": "JsgZOrjBGo3S",
        "outputId": "bc1400b6-5529-4298-9724-2d77bb9b6fab"
      },
      "execution_count": 89,
      "outputs": [
        {
          "output_type": "stream",
          "name": "stdout",
          "text": [
            "\n",
            "Words List: ['Python', 'Is', 'Amazing']\n",
            "\n",
            "word |  char | \n",
            "\n",
            "Python | o |\n",
            "\n",
            "Sublist: ['o']\n",
            "\n",
            "word |  char | \n",
            "\n",
            "Is | I |\n",
            "\n",
            "Sublist: ['I']\n",
            "\n",
            "word |  char | \n",
            "\n",
            "Amazing | A |\n",
            "\n",
            "Amazing | a |\n",
            "\n",
            "Amazing | i |\n",
            "\n",
            "Sublist: ['A', 'a', 'i']\n"
          ]
        }
      ]
    },
    {
      "cell_type": "markdown",
      "source": [
        "### G4.3 Writing Code for Creating Given Nested List with Conditionals"
      ],
      "metadata": {
        "id": "I9WMM0WiGVUJ"
      }
    },
    {
      "cell_type": "markdown",
      "source": [
        "QUESTION\n",
        "\n",
        "Write a nested list comprehension that creates a 5×5 grid, but fills it with 1 if the sum of row and column indices is even, and 0 otherwise, and print it.\n"
      ],
      "metadata": {
        "id": "IVlljJEvGpm5"
      }
    },
    {
      "cell_type": "markdown",
      "source": [
        "SOLUTION"
      ],
      "metadata": {
        "id": "PEuD9YkoGpwJ"
      }
    },
    {
      "cell_type": "code",
      "source": [
        "grid = [[1 if (i + j) % 2 == 0 else 0 for j in range(5)] for i in range(5)]\n",
        "print(grid)\n"
      ],
      "metadata": {
        "colab": {
          "base_uri": "https://localhost:8080/"
        },
        "id": "cPs4b7wEGqpz",
        "outputId": "294aafb3-477a-4e6c-d1e1-124328197014"
      },
      "execution_count": 29,
      "outputs": [
        {
          "output_type": "stream",
          "name": "stdout",
          "text": [
            "[[1, 0, 1, 0, 1], [0, 1, 0, 1, 0], [1, 0, 1, 0, 1], [0, 1, 0, 1, 0], [1, 0, 1, 0, 1]]\n"
          ]
        }
      ]
    },
    {
      "cell_type": "markdown",
      "source": [
        "EXPLANATION"
      ],
      "metadata": {
        "id": "LpydrPLbG3c1"
      }
    },
    {
      "cell_type": "markdown",
      "source": [
        "Concepts:\n",
        "\n",
        "There are 5 rows\n",
        "Thinking about"
      ],
      "metadata": {
        "id": "gSzDGhkkHpzJ"
      }
    },
    {
      "cell_type": "code",
      "source": [
        "result = []\n",
        "for i in range(5):\n",
        "  list_=[]\n",
        "  print(\"\\nrow index | \",\"column index |\", \"expression |\", \"row\")\n",
        "  for j in range(5):\n",
        "    if (i + j) % 2 == 0:\n",
        "      list_.append(1)\n",
        "    else:\n",
        "      list_.append(0)\n",
        "    print(\"\\n{0}  |  {1}  |  {2}  |  {3}  |\".format(i, j, (i+j)%2 , list_))\n",
        "  print(f\"\\nRow:{list_}\")\n"
      ],
      "metadata": {
        "colab": {
          "base_uri": "https://localhost:8080/"
        },
        "id": "LFONZrhMG0Ac",
        "outputId": "20e90b4f-0757-41d1-98f6-a8201f2539e2"
      },
      "execution_count": 94,
      "outputs": [
        {
          "output_type": "stream",
          "name": "stdout",
          "text": [
            "\n",
            "row index |  column index | expression | row\n",
            "\n",
            "0  |  0  |  0  |  [1]  |\n",
            "\n",
            "0  |  1  |  1  |  [1, 0]  |\n",
            "\n",
            "0  |  2  |  0  |  [1, 0, 1]  |\n",
            "\n",
            "0  |  3  |  1  |  [1, 0, 1, 0]  |\n",
            "\n",
            "0  |  4  |  0  |  [1, 0, 1, 0, 1]  |\n",
            "\n",
            "Row:[1, 0, 1, 0, 1]\n",
            "\n",
            "row index |  column index | expression | row\n",
            "\n",
            "1  |  0  |  1  |  [0]  |\n",
            "\n",
            "1  |  1  |  0  |  [0, 1]  |\n",
            "\n",
            "1  |  2  |  1  |  [0, 1, 0]  |\n",
            "\n",
            "1  |  3  |  0  |  [0, 1, 0, 1]  |\n",
            "\n",
            "1  |  4  |  1  |  [0, 1, 0, 1, 0]  |\n",
            "\n",
            "Row:[0, 1, 0, 1, 0]\n",
            "\n",
            "row index |  column index | expression | row\n",
            "\n",
            "2  |  0  |  0  |  [1]  |\n",
            "\n",
            "2  |  1  |  1  |  [1, 0]  |\n",
            "\n",
            "2  |  2  |  0  |  [1, 0, 1]  |\n",
            "\n",
            "2  |  3  |  1  |  [1, 0, 1, 0]  |\n",
            "\n",
            "2  |  4  |  0  |  [1, 0, 1, 0, 1]  |\n",
            "\n",
            "Row:[1, 0, 1, 0, 1]\n",
            "\n",
            "row index |  column index | expression | row\n",
            "\n",
            "3  |  0  |  1  |  [0]  |\n",
            "\n",
            "3  |  1  |  0  |  [0, 1]  |\n",
            "\n",
            "3  |  2  |  1  |  [0, 1, 0]  |\n",
            "\n",
            "3  |  3  |  0  |  [0, 1, 0, 1]  |\n",
            "\n",
            "3  |  4  |  1  |  [0, 1, 0, 1, 0]  |\n",
            "\n",
            "Row:[0, 1, 0, 1, 0]\n",
            "\n",
            "row index |  column index | expression | row\n",
            "\n",
            "4  |  0  |  0  |  [1]  |\n",
            "\n",
            "4  |  1  |  1  |  [1, 0]  |\n",
            "\n",
            "4  |  2  |  0  |  [1, 0, 1]  |\n",
            "\n",
            "4  |  3  |  1  |  [1, 0, 1, 0]  |\n",
            "\n",
            "4  |  4  |  0  |  [1, 0, 1, 0, 1]  |\n",
            "\n",
            "Row:[1, 0, 1, 0, 1]\n"
          ]
        }
      ]
    }
  ]
}